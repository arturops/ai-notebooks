{
 "cells": [
  {
   "cell_type": "markdown",
   "id": "165087e8-d3f0-4ef1-ae17-bd4fd66df9ff",
   "metadata": {},
   "source": [
    "# Local PDF Questions\n",
    "In this notebook we use `python 3.11.6` and `Ollama` to interact with PDFs from you local computer\n",
    "\n",
    "## Table of Content\n",
    "1. Setup\n",
    "2. Ingesting PDFs\n",
    "3. Embeddings\n",
    "4. Retrieval\n"
   ]
  },
  {
   "cell_type": "markdown",
   "id": "e21eb8be-8138-4d58-a4c1-413e69e926a7",
   "metadata": {},
   "source": [
    "## Setup"
   ]
  },
  {
   "cell_type": "code",
   "execution_count": 1,
   "id": "743f8c88-b877-49db-bb5d-6055ded3a5fa",
   "metadata": {},
   "outputs": [
    {
     "name": "stdout",
     "output_type": "stream",
     "text": [
      "Found existing installation: chromadb 1.0.9\n",
      "Uninstalling chromadb-1.0.9:\n",
      "  Successfully uninstalled chromadb-1.0.9\n",
      "Found existing installation: protobuf 5.29.4\n",
      "Uninstalling protobuf-5.29.4:\n",
      "  Successfully uninstalled protobuf-5.29.4\n"
     ]
    }
   ],
   "source": [
    "!pip uninstall -y chromadb protobuf"
   ]
  },
  {
   "cell_type": "code",
   "execution_count": 2,
   "id": "05aeb8c4-b1b3-41cb-850f-2161fb8719bc",
   "metadata": {},
   "outputs": [
    {
     "name": "stdout",
     "output_type": "stream",
     "text": [
      "Requirement already satisfied: tqdm in /Users/arturops/.pyenv/versions/3.11.6/envs/jupyter-pdf-rag/lib/python3.11/site-packages (4.67.1)\n",
      "Requirement already satisfied: unstructured[all-docs]>=0.16.12 in /Users/arturops/.pyenv/versions/3.11.6/envs/jupyter-pdf-rag/lib/python3.11/site-packages (0.17.2)\n",
      "Requirement already satisfied: langchain in /Users/arturops/.pyenv/versions/3.11.6/envs/jupyter-pdf-rag/lib/python3.11/site-packages (0.3.25)\n",
      "Collecting chromadb\n",
      "  Obtaining dependency information for chromadb from https://files.pythonhosted.org/packages/6c/3b/9195db9e17516eb279a6adac3a4ca6062be5b922e4062b794e99dcccef91/chromadb-1.0.9-cp39-abi3-macosx_11_0_arm64.whl.metadata\n",
      "  Using cached chromadb-1.0.9-cp39-abi3-macosx_11_0_arm64.whl.metadata (6.9 kB)\n",
      "Requirement already satisfied: chardet in /Users/arturops/.pyenv/versions/3.11.6/envs/jupyter-pdf-rag/lib/python3.11/site-packages (from unstructured[all-docs]>=0.16.12) (5.2.0)\n",
      "Requirement already satisfied: filetype in /Users/arturops/.pyenv/versions/3.11.6/envs/jupyter-pdf-rag/lib/python3.11/site-packages (from unstructured[all-docs]>=0.16.12) (1.2.0)\n",
      "Requirement already satisfied: python-magic in /Users/arturops/.pyenv/versions/3.11.6/envs/jupyter-pdf-rag/lib/python3.11/site-packages (from unstructured[all-docs]>=0.16.12) (0.4.27)\n",
      "Requirement already satisfied: lxml in /Users/arturops/.pyenv/versions/3.11.6/envs/jupyter-pdf-rag/lib/python3.11/site-packages (from unstructured[all-docs]>=0.16.12) (5.4.0)\n",
      "Requirement already satisfied: nltk in /Users/arturops/.pyenv/versions/3.11.6/envs/jupyter-pdf-rag/lib/python3.11/site-packages (from unstructured[all-docs]>=0.16.12) (3.9.1)\n",
      "Requirement already satisfied: requests in /Users/arturops/.pyenv/versions/3.11.6/envs/jupyter-pdf-rag/lib/python3.11/site-packages (from unstructured[all-docs]>=0.16.12) (2.32.3)\n",
      "Requirement already satisfied: beautifulsoup4 in /Users/arturops/.pyenv/versions/3.11.6/envs/jupyter-pdf-rag/lib/python3.11/site-packages (from unstructured[all-docs]>=0.16.12) (4.13.4)\n",
      "Requirement already satisfied: emoji in /Users/arturops/.pyenv/versions/3.11.6/envs/jupyter-pdf-rag/lib/python3.11/site-packages (from unstructured[all-docs]>=0.16.12) (2.14.1)\n",
      "Requirement already satisfied: dataclasses-json in /Users/arturops/.pyenv/versions/3.11.6/envs/jupyter-pdf-rag/lib/python3.11/site-packages (from unstructured[all-docs]>=0.16.12) (0.6.7)\n",
      "Requirement already satisfied: python-iso639 in /Users/arturops/.pyenv/versions/3.11.6/envs/jupyter-pdf-rag/lib/python3.11/site-packages (from unstructured[all-docs]>=0.16.12) (2025.2.18)\n",
      "Requirement already satisfied: langdetect in /Users/arturops/.pyenv/versions/3.11.6/envs/jupyter-pdf-rag/lib/python3.11/site-packages (from unstructured[all-docs]>=0.16.12) (1.0.9)\n",
      "Requirement already satisfied: numpy in /Users/arturops/.pyenv/versions/3.11.6/envs/jupyter-pdf-rag/lib/python3.11/site-packages (from unstructured[all-docs]>=0.16.12) (2.2.5)\n",
      "Requirement already satisfied: rapidfuzz in /Users/arturops/.pyenv/versions/3.11.6/envs/jupyter-pdf-rag/lib/python3.11/site-packages (from unstructured[all-docs]>=0.16.12) (3.13.0)\n",
      "Requirement already satisfied: backoff in /Users/arturops/.pyenv/versions/3.11.6/envs/jupyter-pdf-rag/lib/python3.11/site-packages (from unstructured[all-docs]>=0.16.12) (2.2.1)\n",
      "Requirement already satisfied: typing-extensions in /Users/arturops/.pyenv/versions/3.11.6/envs/jupyter-pdf-rag/lib/python3.11/site-packages (from unstructured[all-docs]>=0.16.12) (4.13.2)\n",
      "Requirement already satisfied: unstructured-client in /Users/arturops/.pyenv/versions/3.11.6/envs/jupyter-pdf-rag/lib/python3.11/site-packages (from unstructured[all-docs]>=0.16.12) (0.35.0)\n",
      "Requirement already satisfied: wrapt in /Users/arturops/.pyenv/versions/3.11.6/envs/jupyter-pdf-rag/lib/python3.11/site-packages (from unstructured[all-docs]>=0.16.12) (1.17.2)\n",
      "Requirement already satisfied: psutil in /Users/arturops/.pyenv/versions/3.11.6/envs/jupyter-pdf-rag/lib/python3.11/site-packages (from unstructured[all-docs]>=0.16.12) (7.0.0)\n",
      "Requirement already satisfied: python-oxmsg in /Users/arturops/.pyenv/versions/3.11.6/envs/jupyter-pdf-rag/lib/python3.11/site-packages (from unstructured[all-docs]>=0.16.12) (0.0.2)\n",
      "Requirement already satisfied: html5lib in /Users/arturops/.pyenv/versions/3.11.6/envs/jupyter-pdf-rag/lib/python3.11/site-packages (from unstructured[all-docs]>=0.16.12) (1.1)\n",
      "Requirement already satisfied: onnxruntime>=1.19.0 in /Users/arturops/.pyenv/versions/3.11.6/envs/jupyter-pdf-rag/lib/python3.11/site-packages (from unstructured[all-docs]>=0.16.12) (1.22.0)\n",
      "Requirement already satisfied: python-pptx>=1.0.1 in /Users/arturops/.pyenv/versions/3.11.6/envs/jupyter-pdf-rag/lib/python3.11/site-packages (from unstructured[all-docs]>=0.16.12) (1.0.2)\n",
      "Requirement already satisfied: effdet in /Users/arturops/.pyenv/versions/3.11.6/envs/jupyter-pdf-rag/lib/python3.11/site-packages (from unstructured[all-docs]>=0.16.12) (0.4.1)\n",
      "Requirement already satisfied: pypandoc in /Users/arturops/.pyenv/versions/3.11.6/envs/jupyter-pdf-rag/lib/python3.11/site-packages (from unstructured[all-docs]>=0.16.12) (1.15)\n",
      "Requirement already satisfied: pikepdf in /Users/arturops/.pyenv/versions/3.11.6/envs/jupyter-pdf-rag/lib/python3.11/site-packages (from unstructured[all-docs]>=0.16.12) (9.7.0)\n",
      "Requirement already satisfied: google-cloud-vision in /Users/arturops/.pyenv/versions/3.11.6/envs/jupyter-pdf-rag/lib/python3.11/site-packages (from unstructured[all-docs]>=0.16.12) (3.10.1)\n",
      "Requirement already satisfied: unstructured.pytesseract>=0.3.12 in /Users/arturops/.pyenv/versions/3.11.6/envs/jupyter-pdf-rag/lib/python3.11/site-packages (from unstructured[all-docs]>=0.16.12) (0.3.15)\n",
      "Requirement already satisfied: pdfminer.six in /Users/arturops/.pyenv/versions/3.11.6/envs/jupyter-pdf-rag/lib/python3.11/site-packages (from unstructured[all-docs]>=0.16.12) (20250506)\n",
      "Requirement already satisfied: unstructured-inference>=0.8.10 in /Users/arturops/.pyenv/versions/3.11.6/envs/jupyter-pdf-rag/lib/python3.11/site-packages (from unstructured[all-docs]>=0.16.12) (0.8.10)\n",
      "Requirement already satisfied: xlrd in /Users/arturops/.pyenv/versions/3.11.6/envs/jupyter-pdf-rag/lib/python3.11/site-packages (from unstructured[all-docs]>=0.16.12) (2.0.1)\n",
      "Requirement already satisfied: networkx in /Users/arturops/.pyenv/versions/3.11.6/envs/jupyter-pdf-rag/lib/python3.11/site-packages (from unstructured[all-docs]>=0.16.12) (3.4.2)\n",
      "Requirement already satisfied: pandas in /Users/arturops/.pyenv/versions/3.11.6/envs/jupyter-pdf-rag/lib/python3.11/site-packages (from unstructured[all-docs]>=0.16.12) (2.2.3)\n",
      "Requirement already satisfied: pdf2image in /Users/arturops/.pyenv/versions/3.11.6/envs/jupyter-pdf-rag/lib/python3.11/site-packages (from unstructured[all-docs]>=0.16.12) (1.17.0)\n",
      "Requirement already satisfied: openpyxl in /Users/arturops/.pyenv/versions/3.11.6/envs/jupyter-pdf-rag/lib/python3.11/site-packages (from unstructured[all-docs]>=0.16.12) (3.1.5)\n",
      "Requirement already satisfied: python-docx>=1.1.2 in /Users/arturops/.pyenv/versions/3.11.6/envs/jupyter-pdf-rag/lib/python3.11/site-packages (from unstructured[all-docs]>=0.16.12) (1.1.2)\n",
      "Requirement already satisfied: pypdf in /Users/arturops/.pyenv/versions/3.11.6/envs/jupyter-pdf-rag/lib/python3.11/site-packages (from unstructured[all-docs]>=0.16.12) (5.5.0)\n",
      "Requirement already satisfied: onnx>=1.17.0 in /Users/arturops/.pyenv/versions/3.11.6/envs/jupyter-pdf-rag/lib/python3.11/site-packages (from unstructured[all-docs]>=0.16.12) (1.18.0)\n",
      "Requirement already satisfied: markdown in /Users/arturops/.pyenv/versions/3.11.6/envs/jupyter-pdf-rag/lib/python3.11/site-packages (from unstructured[all-docs]>=0.16.12) (3.8)\n",
      "Requirement already satisfied: pi-heif in /Users/arturops/.pyenv/versions/3.11.6/envs/jupyter-pdf-rag/lib/python3.11/site-packages (from unstructured[all-docs]>=0.16.12) (0.22.0)\n",
      "Requirement already satisfied: langchain-core<1.0.0,>=0.3.58 in /Users/arturops/.pyenv/versions/3.11.6/envs/jupyter-pdf-rag/lib/python3.11/site-packages (from langchain) (0.3.60)\n",
      "Requirement already satisfied: langchain-text-splitters<1.0.0,>=0.3.8 in /Users/arturops/.pyenv/versions/3.11.6/envs/jupyter-pdf-rag/lib/python3.11/site-packages (from langchain) (0.3.8)\n",
      "Requirement already satisfied: langsmith<0.4,>=0.1.17 in /Users/arturops/.pyenv/versions/3.11.6/envs/jupyter-pdf-rag/lib/python3.11/site-packages (from langchain) (0.3.42)\n",
      "Requirement already satisfied: pydantic<3.0.0,>=2.7.4 in /Users/arturops/.pyenv/versions/3.11.6/envs/jupyter-pdf-rag/lib/python3.11/site-packages (from langchain) (2.11.4)\n",
      "Requirement already satisfied: SQLAlchemy<3,>=1.4 in /Users/arturops/.pyenv/versions/3.11.6/envs/jupyter-pdf-rag/lib/python3.11/site-packages (from langchain) (2.0.41)\n",
      "Requirement already satisfied: PyYAML>=5.3 in /Users/arturops/.pyenv/versions/3.11.6/envs/jupyter-pdf-rag/lib/python3.11/site-packages (from langchain) (6.0.2)\n",
      "Requirement already satisfied: build>=1.0.3 in /Users/arturops/.pyenv/versions/3.11.6/envs/jupyter-pdf-rag/lib/python3.11/site-packages (from chromadb) (1.2.2.post1)\n",
      "Requirement already satisfied: fastapi==0.115.9 in /Users/arturops/.pyenv/versions/3.11.6/envs/jupyter-pdf-rag/lib/python3.11/site-packages (from chromadb) (0.115.9)\n",
      "Requirement already satisfied: uvicorn[standard]>=0.18.3 in /Users/arturops/.pyenv/versions/3.11.6/envs/jupyter-pdf-rag/lib/python3.11/site-packages (from chromadb) (0.34.2)\n",
      "Requirement already satisfied: posthog>=2.4.0 in /Users/arturops/.pyenv/versions/3.11.6/envs/jupyter-pdf-rag/lib/python3.11/site-packages (from chromadb) (4.0.1)\n",
      "Requirement already satisfied: opentelemetry-api>=1.2.0 in /Users/arturops/.pyenv/versions/3.11.6/envs/jupyter-pdf-rag/lib/python3.11/site-packages (from chromadb) (1.33.0)\n",
      "Requirement already satisfied: opentelemetry-exporter-otlp-proto-grpc>=1.2.0 in /Users/arturops/.pyenv/versions/3.11.6/envs/jupyter-pdf-rag/lib/python3.11/site-packages (from chromadb) (1.33.0)\n",
      "Requirement already satisfied: opentelemetry-instrumentation-fastapi>=0.41b0 in /Users/arturops/.pyenv/versions/3.11.6/envs/jupyter-pdf-rag/lib/python3.11/site-packages (from chromadb) (0.54b0)\n",
      "Requirement already satisfied: opentelemetry-sdk>=1.2.0 in /Users/arturops/.pyenv/versions/3.11.6/envs/jupyter-pdf-rag/lib/python3.11/site-packages (from chromadb) (1.33.0)\n",
      "Requirement already satisfied: tokenizers>=0.13.2 in /Users/arturops/.pyenv/versions/3.11.6/envs/jupyter-pdf-rag/lib/python3.11/site-packages (from chromadb) (0.21.1)\n",
      "Requirement already satisfied: pypika>=0.48.9 in /Users/arturops/.pyenv/versions/3.11.6/envs/jupyter-pdf-rag/lib/python3.11/site-packages (from chromadb) (0.48.9)\n",
      "Requirement already satisfied: overrides>=7.3.1 in /Users/arturops/.pyenv/versions/3.11.6/envs/jupyter-pdf-rag/lib/python3.11/site-packages (from chromadb) (7.7.0)\n",
      "Requirement already satisfied: importlib-resources in /Users/arturops/.pyenv/versions/3.11.6/envs/jupyter-pdf-rag/lib/python3.11/site-packages (from chromadb) (6.5.2)\n",
      "Requirement already satisfied: grpcio>=1.58.0 in /Users/arturops/.pyenv/versions/3.11.6/envs/jupyter-pdf-rag/lib/python3.11/site-packages (from chromadb) (1.71.0)\n",
      "Requirement already satisfied: bcrypt>=4.0.1 in /Users/arturops/.pyenv/versions/3.11.6/envs/jupyter-pdf-rag/lib/python3.11/site-packages (from chromadb) (4.3.0)\n",
      "Requirement already satisfied: typer>=0.9.0 in /Users/arturops/.pyenv/versions/3.11.6/envs/jupyter-pdf-rag/lib/python3.11/site-packages (from chromadb) (0.15.4)\n",
      "Requirement already satisfied: kubernetes>=28.1.0 in /Users/arturops/.pyenv/versions/3.11.6/envs/jupyter-pdf-rag/lib/python3.11/site-packages (from chromadb) (32.0.1)\n",
      "Requirement already satisfied: tenacity>=8.2.3 in /Users/arturops/.pyenv/versions/3.11.6/envs/jupyter-pdf-rag/lib/python3.11/site-packages (from chromadb) (9.1.2)\n",
      "Requirement already satisfied: mmh3>=4.0.1 in /Users/arturops/.pyenv/versions/3.11.6/envs/jupyter-pdf-rag/lib/python3.11/site-packages (from chromadb) (5.1.0)\n",
      "Requirement already satisfied: orjson>=3.9.12 in /Users/arturops/.pyenv/versions/3.11.6/envs/jupyter-pdf-rag/lib/python3.11/site-packages (from chromadb) (3.10.18)\n",
      "Requirement already satisfied: httpx>=0.27.0 in /Users/arturops/.pyenv/versions/3.11.6/envs/jupyter-pdf-rag/lib/python3.11/site-packages (from chromadb) (0.28.1)\n",
      "Requirement already satisfied: rich>=10.11.0 in /Users/arturops/.pyenv/versions/3.11.6/envs/jupyter-pdf-rag/lib/python3.11/site-packages (from chromadb) (14.0.0)\n",
      "Requirement already satisfied: jsonschema>=4.19.0 in /Users/arturops/.pyenv/versions/3.11.6/envs/jupyter-pdf-rag/lib/python3.11/site-packages (from chromadb) (4.23.0)\n",
      "Requirement already satisfied: starlette<0.46.0,>=0.40.0 in /Users/arturops/.pyenv/versions/3.11.6/envs/jupyter-pdf-rag/lib/python3.11/site-packages (from fastapi==0.115.9->chromadb) (0.45.3)\n",
      "Requirement already satisfied: packaging>=19.1 in /Users/arturops/.pyenv/versions/3.11.6/envs/jupyter-pdf-rag/lib/python3.11/site-packages (from build>=1.0.3->chromadb) (24.2)\n",
      "Requirement already satisfied: pyproject_hooks in /Users/arturops/.pyenv/versions/3.11.6/envs/jupyter-pdf-rag/lib/python3.11/site-packages (from build>=1.0.3->chromadb) (1.2.0)\n",
      "Requirement already satisfied: anyio in /Users/arturops/.pyenv/versions/3.11.6/envs/jupyter-pdf-rag/lib/python3.11/site-packages (from httpx>=0.27.0->chromadb) (4.9.0)\n",
      "Requirement already satisfied: certifi in /Users/arturops/.pyenv/versions/3.11.6/envs/jupyter-pdf-rag/lib/python3.11/site-packages (from httpx>=0.27.0->chromadb) (2025.4.26)\n",
      "Requirement already satisfied: httpcore==1.* in /Users/arturops/.pyenv/versions/3.11.6/envs/jupyter-pdf-rag/lib/python3.11/site-packages (from httpx>=0.27.0->chromadb) (1.0.9)\n",
      "Requirement already satisfied: idna in /Users/arturops/.pyenv/versions/3.11.6/envs/jupyter-pdf-rag/lib/python3.11/site-packages (from httpx>=0.27.0->chromadb) (3.10)\n",
      "Requirement already satisfied: h11>=0.16 in /Users/arturops/.pyenv/versions/3.11.6/envs/jupyter-pdf-rag/lib/python3.11/site-packages (from httpcore==1.*->httpx>=0.27.0->chromadb) (0.16.0)\n",
      "Requirement already satisfied: attrs>=22.2.0 in /Users/arturops/.pyenv/versions/3.11.6/envs/jupyter-pdf-rag/lib/python3.11/site-packages (from jsonschema>=4.19.0->chromadb) (25.3.0)\n",
      "Requirement already satisfied: jsonschema-specifications>=2023.03.6 in /Users/arturops/.pyenv/versions/3.11.6/envs/jupyter-pdf-rag/lib/python3.11/site-packages (from jsonschema>=4.19.0->chromadb) (2025.4.1)\n",
      "Requirement already satisfied: referencing>=0.28.4 in /Users/arturops/.pyenv/versions/3.11.6/envs/jupyter-pdf-rag/lib/python3.11/site-packages (from jsonschema>=4.19.0->chromadb) (0.36.2)\n",
      "Requirement already satisfied: rpds-py>=0.7.1 in /Users/arturops/.pyenv/versions/3.11.6/envs/jupyter-pdf-rag/lib/python3.11/site-packages (from jsonschema>=4.19.0->chromadb) (0.25.0)\n",
      "Requirement already satisfied: six>=1.9.0 in /Users/arturops/.pyenv/versions/3.11.6/envs/jupyter-pdf-rag/lib/python3.11/site-packages (from kubernetes>=28.1.0->chromadb) (1.17.0)\n",
      "Requirement already satisfied: python-dateutil>=2.5.3 in /Users/arturops/.pyenv/versions/3.11.6/envs/jupyter-pdf-rag/lib/python3.11/site-packages (from kubernetes>=28.1.0->chromadb) (2.9.0.post0)\n",
      "Requirement already satisfied: google-auth>=1.0.1 in /Users/arturops/.pyenv/versions/3.11.6/envs/jupyter-pdf-rag/lib/python3.11/site-packages (from kubernetes>=28.1.0->chromadb) (2.40.1)\n",
      "Requirement already satisfied: websocket-client!=0.40.0,!=0.41.*,!=0.42.*,>=0.32.0 in /Users/arturops/.pyenv/versions/3.11.6/envs/jupyter-pdf-rag/lib/python3.11/site-packages (from kubernetes>=28.1.0->chromadb) (1.8.0)\n",
      "Requirement already satisfied: requests-oauthlib in /Users/arturops/.pyenv/versions/3.11.6/envs/jupyter-pdf-rag/lib/python3.11/site-packages (from kubernetes>=28.1.0->chromadb) (2.0.0)\n",
      "Requirement already satisfied: oauthlib>=3.2.2 in /Users/arturops/.pyenv/versions/3.11.6/envs/jupyter-pdf-rag/lib/python3.11/site-packages (from kubernetes>=28.1.0->chromadb) (3.2.2)\n",
      "Requirement already satisfied: urllib3>=1.24.2 in /Users/arturops/.pyenv/versions/3.11.6/envs/jupyter-pdf-rag/lib/python3.11/site-packages (from kubernetes>=28.1.0->chromadb) (2.4.0)\n",
      "Requirement already satisfied: durationpy>=0.7 in /Users/arturops/.pyenv/versions/3.11.6/envs/jupyter-pdf-rag/lib/python3.11/site-packages (from kubernetes>=28.1.0->chromadb) (0.9)\n",
      "Requirement already satisfied: jsonpatch<2.0,>=1.33 in /Users/arturops/.pyenv/versions/3.11.6/envs/jupyter-pdf-rag/lib/python3.11/site-packages (from langchain-core<1.0.0,>=0.3.58->langchain) (1.33)\n",
      "Requirement already satisfied: requests-toolbelt<2.0.0,>=1.0.0 in /Users/arturops/.pyenv/versions/3.11.6/envs/jupyter-pdf-rag/lib/python3.11/site-packages (from langsmith<0.4,>=0.1.17->langchain) (1.0.0)\n",
      "Requirement already satisfied: zstandard<0.24.0,>=0.23.0 in /Users/arturops/.pyenv/versions/3.11.6/envs/jupyter-pdf-rag/lib/python3.11/site-packages (from langsmith<0.4,>=0.1.17->langchain) (0.23.0)\n",
      "Collecting protobuf>=4.25.1 (from onnx>=1.17.0->unstructured[all-docs]>=0.16.12)\n",
      "  Obtaining dependency information for protobuf>=4.25.1 from https://files.pythonhosted.org/packages/21/46/33f884aa8bc59114dc97e0d954ca4618c556483670236008c88fbb7e834f/protobuf-6.31.0-cp39-abi3-macosx_10_9_universal2.whl.metadata\n",
      "  Using cached protobuf-6.31.0-cp39-abi3-macosx_10_9_universal2.whl.metadata (593 bytes)\n",
      "Requirement already satisfied: coloredlogs in /Users/arturops/.pyenv/versions/3.11.6/envs/jupyter-pdf-rag/lib/python3.11/site-packages (from onnxruntime>=1.19.0->unstructured[all-docs]>=0.16.12) (15.0.1)\n",
      "Requirement already satisfied: flatbuffers in /Users/arturops/.pyenv/versions/3.11.6/envs/jupyter-pdf-rag/lib/python3.11/site-packages (from onnxruntime>=1.19.0->unstructured[all-docs]>=0.16.12) (25.2.10)\n",
      "Requirement already satisfied: sympy in /Users/arturops/.pyenv/versions/3.11.6/envs/jupyter-pdf-rag/lib/python3.11/site-packages (from onnxruntime>=1.19.0->unstructured[all-docs]>=0.16.12) (1.14.0)\n",
      "Requirement already satisfied: deprecated>=1.2.6 in /Users/arturops/.pyenv/versions/3.11.6/envs/jupyter-pdf-rag/lib/python3.11/site-packages (from opentelemetry-api>=1.2.0->chromadb) (1.2.18)\n",
      "Requirement already satisfied: importlib-metadata<8.7.0,>=6.0 in /Users/arturops/.pyenv/versions/3.11.6/envs/jupyter-pdf-rag/lib/python3.11/site-packages (from opentelemetry-api>=1.2.0->chromadb) (8.6.1)\n",
      "Requirement already satisfied: googleapis-common-protos~=1.52 in /Users/arturops/.pyenv/versions/3.11.6/envs/jupyter-pdf-rag/lib/python3.11/site-packages (from opentelemetry-exporter-otlp-proto-grpc>=1.2.0->chromadb) (1.70.0)\n",
      "Requirement already satisfied: opentelemetry-exporter-otlp-proto-common==1.33.0 in /Users/arturops/.pyenv/versions/3.11.6/envs/jupyter-pdf-rag/lib/python3.11/site-packages (from opentelemetry-exporter-otlp-proto-grpc>=1.2.0->chromadb) (1.33.0)\n",
      "Requirement already satisfied: opentelemetry-proto==1.33.0 in /Users/arturops/.pyenv/versions/3.11.6/envs/jupyter-pdf-rag/lib/python3.11/site-packages (from opentelemetry-exporter-otlp-proto-grpc>=1.2.0->chromadb) (1.33.0)\n",
      "  Obtaining dependency information for protobuf>=4.25.1 from https://files.pythonhosted.org/packages/46/de/7c126bbb06aa0f8a7b38aaf8bd746c514d70e6a2a3f6dd460b3b7aad7aae/protobuf-5.29.4-cp38-abi3-macosx_10_9_universal2.whl.metadata\n",
      "  Using cached protobuf-5.29.4-cp38-abi3-macosx_10_9_universal2.whl.metadata (592 bytes)\n",
      "Requirement already satisfied: opentelemetry-instrumentation-asgi==0.54b0 in /Users/arturops/.pyenv/versions/3.11.6/envs/jupyter-pdf-rag/lib/python3.11/site-packages (from opentelemetry-instrumentation-fastapi>=0.41b0->chromadb) (0.54b0)\n",
      "Requirement already satisfied: opentelemetry-instrumentation==0.54b0 in /Users/arturops/.pyenv/versions/3.11.6/envs/jupyter-pdf-rag/lib/python3.11/site-packages (from opentelemetry-instrumentation-fastapi>=0.41b0->chromadb) (0.54b0)\n",
      "Requirement already satisfied: opentelemetry-semantic-conventions==0.54b0 in /Users/arturops/.pyenv/versions/3.11.6/envs/jupyter-pdf-rag/lib/python3.11/site-packages (from opentelemetry-instrumentation-fastapi>=0.41b0->chromadb) (0.54b0)\n",
      "Requirement already satisfied: opentelemetry-util-http==0.54b0 in /Users/arturops/.pyenv/versions/3.11.6/envs/jupyter-pdf-rag/lib/python3.11/site-packages (from opentelemetry-instrumentation-fastapi>=0.41b0->chromadb) (0.54b0)\n",
      "Requirement already satisfied: asgiref~=3.0 in /Users/arturops/.pyenv/versions/3.11.6/envs/jupyter-pdf-rag/lib/python3.11/site-packages (from opentelemetry-instrumentation-asgi==0.54b0->opentelemetry-instrumentation-fastapi>=0.41b0->chromadb) (3.8.1)\n",
      "Requirement already satisfied: distro>=1.5.0 in /Users/arturops/.pyenv/versions/3.11.6/envs/jupyter-pdf-rag/lib/python3.11/site-packages (from posthog>=2.4.0->chromadb) (1.9.0)\n",
      "Requirement already satisfied: annotated-types>=0.6.0 in /Users/arturops/.pyenv/versions/3.11.6/envs/jupyter-pdf-rag/lib/python3.11/site-packages (from pydantic<3.0.0,>=2.7.4->langchain) (0.7.0)\n",
      "Requirement already satisfied: pydantic-core==2.33.2 in /Users/arturops/.pyenv/versions/3.11.6/envs/jupyter-pdf-rag/lib/python3.11/site-packages (from pydantic<3.0.0,>=2.7.4->langchain) (2.33.2)\n",
      "Requirement already satisfied: typing-inspection>=0.4.0 in /Users/arturops/.pyenv/versions/3.11.6/envs/jupyter-pdf-rag/lib/python3.11/site-packages (from pydantic<3.0.0,>=2.7.4->langchain) (0.4.0)\n",
      "Requirement already satisfied: Pillow>=3.3.2 in /Users/arturops/.pyenv/versions/3.11.6/envs/jupyter-pdf-rag/lib/python3.11/site-packages (from python-pptx>=1.0.1->unstructured[all-docs]>=0.16.12) (11.2.1)\n",
      "Requirement already satisfied: XlsxWriter>=0.5.7 in /Users/arturops/.pyenv/versions/3.11.6/envs/jupyter-pdf-rag/lib/python3.11/site-packages (from python-pptx>=1.0.1->unstructured[all-docs]>=0.16.12) (3.2.3)\n",
      "Requirement already satisfied: charset-normalizer<4,>=2 in /Users/arturops/.pyenv/versions/3.11.6/envs/jupyter-pdf-rag/lib/python3.11/site-packages (from requests->unstructured[all-docs]>=0.16.12) (3.4.2)\n",
      "Requirement already satisfied: markdown-it-py>=2.2.0 in /Users/arturops/.pyenv/versions/3.11.6/envs/jupyter-pdf-rag/lib/python3.11/site-packages (from rich>=10.11.0->chromadb) (3.0.0)\n",
      "Requirement already satisfied: pygments<3.0.0,>=2.13.0 in /Users/arturops/.pyenv/versions/3.11.6/envs/jupyter-pdf-rag/lib/python3.11/site-packages (from rich>=10.11.0->chromadb) (2.19.1)\n",
      "Requirement already satisfied: huggingface-hub<1.0,>=0.16.4 in /Users/arturops/.pyenv/versions/3.11.6/envs/jupyter-pdf-rag/lib/python3.11/site-packages (from tokenizers>=0.13.2->chromadb) (0.31.2)\n",
      "Requirement already satisfied: click<8.2,>=8.0.0 in /Users/arturops/.pyenv/versions/3.11.6/envs/jupyter-pdf-rag/lib/python3.11/site-packages (from typer>=0.9.0->chromadb) (8.1.8)\n",
      "Requirement already satisfied: shellingham>=1.3.0 in /Users/arturops/.pyenv/versions/3.11.6/envs/jupyter-pdf-rag/lib/python3.11/site-packages (from typer>=0.9.0->chromadb) (1.5.4)\n",
      "Requirement already satisfied: python-multipart in /Users/arturops/.pyenv/versions/3.11.6/envs/jupyter-pdf-rag/lib/python3.11/site-packages (from unstructured-inference>=0.8.10->unstructured[all-docs]>=0.16.12) (0.0.20)\n",
      "Requirement already satisfied: opencv-python!=4.7.0.68 in /Users/arturops/.pyenv/versions/3.11.6/envs/jupyter-pdf-rag/lib/python3.11/site-packages (from unstructured-inference>=0.8.10->unstructured[all-docs]>=0.16.12) (4.11.0.86)\n",
      "Requirement already satisfied: matplotlib in /Users/arturops/.pyenv/versions/3.11.6/envs/jupyter-pdf-rag/lib/python3.11/site-packages (from unstructured-inference>=0.8.10->unstructured[all-docs]>=0.16.12) (3.10.3)\n",
      "Requirement already satisfied: torch in /Users/arturops/.pyenv/versions/3.11.6/envs/jupyter-pdf-rag/lib/python3.11/site-packages (from unstructured-inference>=0.8.10->unstructured[all-docs]>=0.16.12) (2.7.0)\n",
      "Requirement already satisfied: timm in /Users/arturops/.pyenv/versions/3.11.6/envs/jupyter-pdf-rag/lib/python3.11/site-packages (from unstructured-inference>=0.8.10->unstructured[all-docs]>=0.16.12) (1.0.15)\n",
      "Requirement already satisfied: transformers>=4.25.1 in /Users/arturops/.pyenv/versions/3.11.6/envs/jupyter-pdf-rag/lib/python3.11/site-packages (from unstructured-inference>=0.8.10->unstructured[all-docs]>=0.16.12) (4.51.3)\n",
      "Requirement already satisfied: scipy in /Users/arturops/.pyenv/versions/3.11.6/envs/jupyter-pdf-rag/lib/python3.11/site-packages (from unstructured-inference>=0.8.10->unstructured[all-docs]>=0.16.12) (1.15.3)\n",
      "Requirement already satisfied: pypdfium2 in /Users/arturops/.pyenv/versions/3.11.6/envs/jupyter-pdf-rag/lib/python3.11/site-packages (from unstructured-inference>=0.8.10->unstructured[all-docs]>=0.16.12) (4.30.1)\n",
      "Requirement already satisfied: httptools>=0.6.3 in /Users/arturops/.pyenv/versions/3.11.6/envs/jupyter-pdf-rag/lib/python3.11/site-packages (from uvicorn[standard]>=0.18.3->chromadb) (0.6.4)\n",
      "Requirement already satisfied: python-dotenv>=0.13 in /Users/arturops/.pyenv/versions/3.11.6/envs/jupyter-pdf-rag/lib/python3.11/site-packages (from uvicorn[standard]>=0.18.3->chromadb) (1.1.0)\n",
      "Requirement already satisfied: uvloop!=0.15.0,!=0.15.1,>=0.14.0 in /Users/arturops/.pyenv/versions/3.11.6/envs/jupyter-pdf-rag/lib/python3.11/site-packages (from uvicorn[standard]>=0.18.3->chromadb) (0.21.0)\n",
      "Requirement already satisfied: watchfiles>=0.13 in /Users/arturops/.pyenv/versions/3.11.6/envs/jupyter-pdf-rag/lib/python3.11/site-packages (from uvicorn[standard]>=0.18.3->chromadb) (1.0.5)\n",
      "Requirement already satisfied: websockets>=10.4 in /Users/arturops/.pyenv/versions/3.11.6/envs/jupyter-pdf-rag/lib/python3.11/site-packages (from uvicorn[standard]>=0.18.3->chromadb) (15.0.1)\n",
      "Requirement already satisfied: soupsieve>1.2 in /Users/arturops/.pyenv/versions/3.11.6/envs/jupyter-pdf-rag/lib/python3.11/site-packages (from beautifulsoup4->unstructured[all-docs]>=0.16.12) (2.7)\n",
      "Requirement already satisfied: marshmallow<4.0.0,>=3.18.0 in /Users/arturops/.pyenv/versions/3.11.6/envs/jupyter-pdf-rag/lib/python3.11/site-packages (from dataclasses-json->unstructured[all-docs]>=0.16.12) (3.26.1)\n",
      "Requirement already satisfied: typing-inspect<1,>=0.4.0 in /Users/arturops/.pyenv/versions/3.11.6/envs/jupyter-pdf-rag/lib/python3.11/site-packages (from dataclasses-json->unstructured[all-docs]>=0.16.12) (0.9.0)\n",
      "Requirement already satisfied: torchvision in /Users/arturops/.pyenv/versions/3.11.6/envs/jupyter-pdf-rag/lib/python3.11/site-packages (from effdet->unstructured[all-docs]>=0.16.12) (0.22.0)\n",
      "Requirement already satisfied: pycocotools>=2.0.2 in /Users/arturops/.pyenv/versions/3.11.6/envs/jupyter-pdf-rag/lib/python3.11/site-packages (from effdet->unstructured[all-docs]>=0.16.12) (2.0.8)\n",
      "Requirement already satisfied: omegaconf>=2.0 in /Users/arturops/.pyenv/versions/3.11.6/envs/jupyter-pdf-rag/lib/python3.11/site-packages (from effdet->unstructured[all-docs]>=0.16.12) (2.3.0)\n",
      "Requirement already satisfied: google-api-core[grpc]!=2.0.*,!=2.1.*,!=2.10.*,!=2.2.*,!=2.3.*,!=2.4.*,!=2.5.*,!=2.6.*,!=2.7.*,!=2.8.*,!=2.9.*,<3.0.0,>=1.34.1 in /Users/arturops/.pyenv/versions/3.11.6/envs/jupyter-pdf-rag/lib/python3.11/site-packages (from google-cloud-vision->unstructured[all-docs]>=0.16.12) (2.24.2)\n",
      "Requirement already satisfied: proto-plus<2.0.0,>=1.22.3 in /Users/arturops/.pyenv/versions/3.11.6/envs/jupyter-pdf-rag/lib/python3.11/site-packages (from google-cloud-vision->unstructured[all-docs]>=0.16.12) (1.26.1)\n",
      "Requirement already satisfied: webencodings in /Users/arturops/.pyenv/versions/3.11.6/envs/jupyter-pdf-rag/lib/python3.11/site-packages (from html5lib->unstructured[all-docs]>=0.16.12) (0.5.1)\n",
      "Requirement already satisfied: joblib in /Users/arturops/.pyenv/versions/3.11.6/envs/jupyter-pdf-rag/lib/python3.11/site-packages (from nltk->unstructured[all-docs]>=0.16.12) (1.5.0)\n",
      "Requirement already satisfied: regex>=2021.8.3 in /Users/arturops/.pyenv/versions/3.11.6/envs/jupyter-pdf-rag/lib/python3.11/site-packages (from nltk->unstructured[all-docs]>=0.16.12) (2024.11.6)\n",
      "Requirement already satisfied: et-xmlfile in /Users/arturops/.pyenv/versions/3.11.6/envs/jupyter-pdf-rag/lib/python3.11/site-packages (from openpyxl->unstructured[all-docs]>=0.16.12) (2.0.0)\n",
      "Requirement already satisfied: pytz>=2020.1 in /Users/arturops/.pyenv/versions/3.11.6/envs/jupyter-pdf-rag/lib/python3.11/site-packages (from pandas->unstructured[all-docs]>=0.16.12) (2025.2)\n",
      "Requirement already satisfied: tzdata>=2022.7 in /Users/arturops/.pyenv/versions/3.11.6/envs/jupyter-pdf-rag/lib/python3.11/site-packages (from pandas->unstructured[all-docs]>=0.16.12) (2025.2)\n",
      "Requirement already satisfied: cryptography>=36.0.0 in /Users/arturops/.pyenv/versions/3.11.6/envs/jupyter-pdf-rag/lib/python3.11/site-packages (from pdfminer.six->unstructured[all-docs]>=0.16.12) (44.0.3)\n",
      "Requirement already satisfied: olefile in /Users/arturops/.pyenv/versions/3.11.6/envs/jupyter-pdf-rag/lib/python3.11/site-packages (from python-oxmsg->unstructured[all-docs]>=0.16.12) (0.47)\n",
      "Requirement already satisfied: aiofiles>=24.1.0 in /Users/arturops/.pyenv/versions/3.11.6/envs/jupyter-pdf-rag/lib/python3.11/site-packages (from unstructured-client->unstructured[all-docs]>=0.16.12) (24.1.0)\n",
      "Requirement already satisfied: nest-asyncio>=1.6.0 in /Users/arturops/.pyenv/versions/3.11.6/envs/jupyter-pdf-rag/lib/python3.11/site-packages (from unstructured-client->unstructured[all-docs]>=0.16.12) (1.6.0)\n",
      "Requirement already satisfied: cffi>=1.12 in /Users/arturops/.pyenv/versions/3.11.6/envs/jupyter-pdf-rag/lib/python3.11/site-packages (from cryptography>=36.0.0->pdfminer.six->unstructured[all-docs]>=0.16.12) (1.17.1)\n",
      "Requirement already satisfied: grpcio-status<2.0.dev0,>=1.33.2 in /Users/arturops/.pyenv/versions/3.11.6/envs/jupyter-pdf-rag/lib/python3.11/site-packages (from google-api-core[grpc]!=2.0.*,!=2.1.*,!=2.10.*,!=2.2.*,!=2.3.*,!=2.4.*,!=2.5.*,!=2.6.*,!=2.7.*,!=2.8.*,!=2.9.*,<3.0.0,>=1.34.1->google-cloud-vision->unstructured[all-docs]>=0.16.12) (1.71.0)\n",
      "Requirement already satisfied: cachetools<6.0,>=2.0.0 in /Users/arturops/.pyenv/versions/3.11.6/envs/jupyter-pdf-rag/lib/python3.11/site-packages (from google-auth>=1.0.1->kubernetes>=28.1.0->chromadb) (5.5.2)\n",
      "Requirement already satisfied: pyasn1-modules>=0.2.1 in /Users/arturops/.pyenv/versions/3.11.6/envs/jupyter-pdf-rag/lib/python3.11/site-packages (from google-auth>=1.0.1->kubernetes>=28.1.0->chromadb) (0.4.2)\n",
      "Requirement already satisfied: rsa<5,>=3.1.4 in /Users/arturops/.pyenv/versions/3.11.6/envs/jupyter-pdf-rag/lib/python3.11/site-packages (from google-auth>=1.0.1->kubernetes>=28.1.0->chromadb) (4.9.1)\n",
      "Requirement already satisfied: filelock in /Users/arturops/.pyenv/versions/3.11.6/envs/jupyter-pdf-rag/lib/python3.11/site-packages (from huggingface-hub<1.0,>=0.16.4->tokenizers>=0.13.2->chromadb) (3.18.0)\n",
      "Requirement already satisfied: fsspec>=2023.5.0 in /Users/arturops/.pyenv/versions/3.11.6/envs/jupyter-pdf-rag/lib/python3.11/site-packages (from huggingface-hub<1.0,>=0.16.4->tokenizers>=0.13.2->chromadb) (2025.3.2)\n",
      "Requirement already satisfied: zipp>=3.20 in /Users/arturops/.pyenv/versions/3.11.6/envs/jupyter-pdf-rag/lib/python3.11/site-packages (from importlib-metadata<8.7.0,>=6.0->opentelemetry-api>=1.2.0->chromadb) (3.21.0)\n",
      "Requirement already satisfied: jsonpointer>=1.9 in /Users/arturops/.pyenv/versions/3.11.6/envs/jupyter-pdf-rag/lib/python3.11/site-packages (from jsonpatch<2.0,>=1.33->langchain-core<1.0.0,>=0.3.58->langchain) (3.0.0)\n",
      "Requirement already satisfied: mdurl~=0.1 in /Users/arturops/.pyenv/versions/3.11.6/envs/jupyter-pdf-rag/lib/python3.11/site-packages (from markdown-it-py>=2.2.0->rich>=10.11.0->chromadb) (0.1.2)\n",
      "Requirement already satisfied: antlr4-python3-runtime==4.9.* in /Users/arturops/.pyenv/versions/3.11.6/envs/jupyter-pdf-rag/lib/python3.11/site-packages (from omegaconf>=2.0->effdet->unstructured[all-docs]>=0.16.12) (4.9.3)\n",
      "Requirement already satisfied: contourpy>=1.0.1 in /Users/arturops/.pyenv/versions/3.11.6/envs/jupyter-pdf-rag/lib/python3.11/site-packages (from matplotlib->unstructured-inference>=0.8.10->unstructured[all-docs]>=0.16.12) (1.3.2)\n",
      "Requirement already satisfied: cycler>=0.10 in /Users/arturops/.pyenv/versions/3.11.6/envs/jupyter-pdf-rag/lib/python3.11/site-packages (from matplotlib->unstructured-inference>=0.8.10->unstructured[all-docs]>=0.16.12) (0.12.1)\n",
      "Requirement already satisfied: fonttools>=4.22.0 in /Users/arturops/.pyenv/versions/3.11.6/envs/jupyter-pdf-rag/lib/python3.11/site-packages (from matplotlib->unstructured-inference>=0.8.10->unstructured[all-docs]>=0.16.12) (4.58.0)\n",
      "Requirement already satisfied: kiwisolver>=1.3.1 in /Users/arturops/.pyenv/versions/3.11.6/envs/jupyter-pdf-rag/lib/python3.11/site-packages (from matplotlib->unstructured-inference>=0.8.10->unstructured[all-docs]>=0.16.12) (1.4.8)\n",
      "Requirement already satisfied: pyparsing>=2.3.1 in /Users/arturops/.pyenv/versions/3.11.6/envs/jupyter-pdf-rag/lib/python3.11/site-packages (from matplotlib->unstructured-inference>=0.8.10->unstructured[all-docs]>=0.16.12) (3.2.3)\n",
      "Requirement already satisfied: sniffio>=1.1 in /Users/arturops/.pyenv/versions/3.11.6/envs/jupyter-pdf-rag/lib/python3.11/site-packages (from anyio->httpx>=0.27.0->chromadb) (1.3.1)\n",
      "Requirement already satisfied: safetensors in /Users/arturops/.pyenv/versions/3.11.6/envs/jupyter-pdf-rag/lib/python3.11/site-packages (from timm->unstructured-inference>=0.8.10->unstructured[all-docs]>=0.16.12) (0.5.3)\n",
      "Requirement already satisfied: jinja2 in /Users/arturops/.pyenv/versions/3.11.6/envs/jupyter-pdf-rag/lib/python3.11/site-packages (from torch->unstructured-inference>=0.8.10->unstructured[all-docs]>=0.16.12) (3.1.6)\n",
      "Requirement already satisfied: mpmath<1.4,>=1.1.0 in /Users/arturops/.pyenv/versions/3.11.6/envs/jupyter-pdf-rag/lib/python3.11/site-packages (from sympy->onnxruntime>=1.19.0->unstructured[all-docs]>=0.16.12) (1.3.0)\n",
      "Requirement already satisfied: mypy-extensions>=0.3.0 in /Users/arturops/.pyenv/versions/3.11.6/envs/jupyter-pdf-rag/lib/python3.11/site-packages (from typing-inspect<1,>=0.4.0->dataclasses-json->unstructured[all-docs]>=0.16.12) (1.1.0)\n",
      "Requirement already satisfied: humanfriendly>=9.1 in /Users/arturops/.pyenv/versions/3.11.6/envs/jupyter-pdf-rag/lib/python3.11/site-packages (from coloredlogs->onnxruntime>=1.19.0->unstructured[all-docs]>=0.16.12) (10.0)\n",
      "Requirement already satisfied: pycparser in /Users/arturops/.pyenv/versions/3.11.6/envs/jupyter-pdf-rag/lib/python3.11/site-packages (from cffi>=1.12->cryptography>=36.0.0->pdfminer.six->unstructured[all-docs]>=0.16.12) (2.22)\n",
      "Requirement already satisfied: pyasn1<0.7.0,>=0.6.1 in /Users/arturops/.pyenv/versions/3.11.6/envs/jupyter-pdf-rag/lib/python3.11/site-packages (from pyasn1-modules>=0.2.1->google-auth>=1.0.1->kubernetes>=28.1.0->chromadb) (0.6.1)\n",
      "Requirement already satisfied: MarkupSafe>=2.0 in /Users/arturops/.pyenv/versions/3.11.6/envs/jupyter-pdf-rag/lib/python3.11/site-packages (from jinja2->torch->unstructured-inference>=0.8.10->unstructured[all-docs]>=0.16.12) (3.0.2)\n",
      "Using cached chromadb-1.0.9-cp39-abi3-macosx_11_0_arm64.whl (17.5 MB)\n",
      "Using cached protobuf-5.29.4-cp38-abi3-macosx_10_9_universal2.whl (417 kB)\n",
      "Installing collected packages: protobuf, chromadb\n",
      "Successfully installed chromadb-1.0.9 protobuf-5.29.4\n",
      "\n",
      "\u001b[1m[\u001b[0m\u001b[34;49mnotice\u001b[0m\u001b[1;39;49m]\u001b[0m\u001b[39;49m A new release of pip is available: \u001b[0m\u001b[31;49m23.2.1\u001b[0m\u001b[39;49m -> \u001b[0m\u001b[32;49m25.1.1\u001b[0m\n",
      "\u001b[1m[\u001b[0m\u001b[34;49mnotice\u001b[0m\u001b[1;39;49m]\u001b[0m\u001b[39;49m To update, run: \u001b[0m\u001b[32;49mpython3.11 -m pip install --upgrade pip\u001b[0m\n",
      "Requirement already satisfied: langchain_community in /Users/arturops/.pyenv/versions/3.11.6/envs/jupyter-pdf-rag/lib/python3.11/site-packages (0.3.24)\n",
      "Requirement already satisfied: langchain-core<1.0.0,>=0.3.59 in /Users/arturops/.pyenv/versions/3.11.6/envs/jupyter-pdf-rag/lib/python3.11/site-packages (from langchain_community) (0.3.60)\n",
      "Requirement already satisfied: langchain<1.0.0,>=0.3.25 in /Users/arturops/.pyenv/versions/3.11.6/envs/jupyter-pdf-rag/lib/python3.11/site-packages (from langchain_community) (0.3.25)\n",
      "Requirement already satisfied: SQLAlchemy<3,>=1.4 in /Users/arturops/.pyenv/versions/3.11.6/envs/jupyter-pdf-rag/lib/python3.11/site-packages (from langchain_community) (2.0.41)\n",
      "Requirement already satisfied: requests<3,>=2 in /Users/arturops/.pyenv/versions/3.11.6/envs/jupyter-pdf-rag/lib/python3.11/site-packages (from langchain_community) (2.32.3)\n",
      "Requirement already satisfied: PyYAML>=5.3 in /Users/arturops/.pyenv/versions/3.11.6/envs/jupyter-pdf-rag/lib/python3.11/site-packages (from langchain_community) (6.0.2)\n",
      "Requirement already satisfied: aiohttp<4.0.0,>=3.8.3 in /Users/arturops/.pyenv/versions/3.11.6/envs/jupyter-pdf-rag/lib/python3.11/site-packages (from langchain_community) (3.11.18)\n",
      "Requirement already satisfied: tenacity!=8.4.0,<10,>=8.1.0 in /Users/arturops/.pyenv/versions/3.11.6/envs/jupyter-pdf-rag/lib/python3.11/site-packages (from langchain_community) (9.1.2)\n",
      "Requirement already satisfied: dataclasses-json<0.7,>=0.5.7 in /Users/arturops/.pyenv/versions/3.11.6/envs/jupyter-pdf-rag/lib/python3.11/site-packages (from langchain_community) (0.6.7)\n",
      "Requirement already satisfied: pydantic-settings<3.0.0,>=2.4.0 in /Users/arturops/.pyenv/versions/3.11.6/envs/jupyter-pdf-rag/lib/python3.11/site-packages (from langchain_community) (2.9.1)\n",
      "Requirement already satisfied: langsmith<0.4,>=0.1.125 in /Users/arturops/.pyenv/versions/3.11.6/envs/jupyter-pdf-rag/lib/python3.11/site-packages (from langchain_community) (0.3.42)\n",
      "Requirement already satisfied: httpx-sse<1.0.0,>=0.4.0 in /Users/arturops/.pyenv/versions/3.11.6/envs/jupyter-pdf-rag/lib/python3.11/site-packages (from langchain_community) (0.4.0)\n",
      "Requirement already satisfied: numpy>=1.26.2 in /Users/arturops/.pyenv/versions/3.11.6/envs/jupyter-pdf-rag/lib/python3.11/site-packages (from langchain_community) (2.2.5)\n",
      "Requirement already satisfied: aiohappyeyeballs>=2.3.0 in /Users/arturops/.pyenv/versions/3.11.6/envs/jupyter-pdf-rag/lib/python3.11/site-packages (from aiohttp<4.0.0,>=3.8.3->langchain_community) (2.6.1)\n",
      "Requirement already satisfied: aiosignal>=1.1.2 in /Users/arturops/.pyenv/versions/3.11.6/envs/jupyter-pdf-rag/lib/python3.11/site-packages (from aiohttp<4.0.0,>=3.8.3->langchain_community) (1.3.2)\n",
      "Requirement already satisfied: attrs>=17.3.0 in /Users/arturops/.pyenv/versions/3.11.6/envs/jupyter-pdf-rag/lib/python3.11/site-packages (from aiohttp<4.0.0,>=3.8.3->langchain_community) (25.3.0)\n",
      "Requirement already satisfied: frozenlist>=1.1.1 in /Users/arturops/.pyenv/versions/3.11.6/envs/jupyter-pdf-rag/lib/python3.11/site-packages (from aiohttp<4.0.0,>=3.8.3->langchain_community) (1.6.0)\n",
      "Requirement already satisfied: multidict<7.0,>=4.5 in /Users/arturops/.pyenv/versions/3.11.6/envs/jupyter-pdf-rag/lib/python3.11/site-packages (from aiohttp<4.0.0,>=3.8.3->langchain_community) (6.4.3)\n",
      "Requirement already satisfied: propcache>=0.2.0 in /Users/arturops/.pyenv/versions/3.11.6/envs/jupyter-pdf-rag/lib/python3.11/site-packages (from aiohttp<4.0.0,>=3.8.3->langchain_community) (0.3.1)\n",
      "Requirement already satisfied: yarl<2.0,>=1.17.0 in /Users/arturops/.pyenv/versions/3.11.6/envs/jupyter-pdf-rag/lib/python3.11/site-packages (from aiohttp<4.0.0,>=3.8.3->langchain_community) (1.20.0)\n",
      "Requirement already satisfied: marshmallow<4.0.0,>=3.18.0 in /Users/arturops/.pyenv/versions/3.11.6/envs/jupyter-pdf-rag/lib/python3.11/site-packages (from dataclasses-json<0.7,>=0.5.7->langchain_community) (3.26.1)\n",
      "Requirement already satisfied: typing-inspect<1,>=0.4.0 in /Users/arturops/.pyenv/versions/3.11.6/envs/jupyter-pdf-rag/lib/python3.11/site-packages (from dataclasses-json<0.7,>=0.5.7->langchain_community) (0.9.0)\n",
      "Requirement already satisfied: langchain-text-splitters<1.0.0,>=0.3.8 in /Users/arturops/.pyenv/versions/3.11.6/envs/jupyter-pdf-rag/lib/python3.11/site-packages (from langchain<1.0.0,>=0.3.25->langchain_community) (0.3.8)\n",
      "Requirement already satisfied: pydantic<3.0.0,>=2.7.4 in /Users/arturops/.pyenv/versions/3.11.6/envs/jupyter-pdf-rag/lib/python3.11/site-packages (from langchain<1.0.0,>=0.3.25->langchain_community) (2.11.4)\n",
      "Requirement already satisfied: jsonpatch<2.0,>=1.33 in /Users/arturops/.pyenv/versions/3.11.6/envs/jupyter-pdf-rag/lib/python3.11/site-packages (from langchain-core<1.0.0,>=0.3.59->langchain_community) (1.33)\n",
      "Requirement already satisfied: packaging<25,>=23.2 in /Users/arturops/.pyenv/versions/3.11.6/envs/jupyter-pdf-rag/lib/python3.11/site-packages (from langchain-core<1.0.0,>=0.3.59->langchain_community) (24.2)\n",
      "Requirement already satisfied: typing-extensions>=4.7 in /Users/arturops/.pyenv/versions/3.11.6/envs/jupyter-pdf-rag/lib/python3.11/site-packages (from langchain-core<1.0.0,>=0.3.59->langchain_community) (4.13.2)\n",
      "Requirement already satisfied: httpx<1,>=0.23.0 in /Users/arturops/.pyenv/versions/3.11.6/envs/jupyter-pdf-rag/lib/python3.11/site-packages (from langsmith<0.4,>=0.1.125->langchain_community) (0.28.1)\n",
      "Requirement already satisfied: orjson<4.0.0,>=3.9.14 in /Users/arturops/.pyenv/versions/3.11.6/envs/jupyter-pdf-rag/lib/python3.11/site-packages (from langsmith<0.4,>=0.1.125->langchain_community) (3.10.18)\n",
      "Requirement already satisfied: requests-toolbelt<2.0.0,>=1.0.0 in /Users/arturops/.pyenv/versions/3.11.6/envs/jupyter-pdf-rag/lib/python3.11/site-packages (from langsmith<0.4,>=0.1.125->langchain_community) (1.0.0)\n",
      "Requirement already satisfied: zstandard<0.24.0,>=0.23.0 in /Users/arturops/.pyenv/versions/3.11.6/envs/jupyter-pdf-rag/lib/python3.11/site-packages (from langsmith<0.4,>=0.1.125->langchain_community) (0.23.0)\n",
      "Requirement already satisfied: python-dotenv>=0.21.0 in /Users/arturops/.pyenv/versions/3.11.6/envs/jupyter-pdf-rag/lib/python3.11/site-packages (from pydantic-settings<3.0.0,>=2.4.0->langchain_community) (1.1.0)\n",
      "Requirement already satisfied: typing-inspection>=0.4.0 in /Users/arturops/.pyenv/versions/3.11.6/envs/jupyter-pdf-rag/lib/python3.11/site-packages (from pydantic-settings<3.0.0,>=2.4.0->langchain_community) (0.4.0)\n",
      "Requirement already satisfied: charset-normalizer<4,>=2 in /Users/arturops/.pyenv/versions/3.11.6/envs/jupyter-pdf-rag/lib/python3.11/site-packages (from requests<3,>=2->langchain_community) (3.4.2)\n",
      "Requirement already satisfied: idna<4,>=2.5 in /Users/arturops/.pyenv/versions/3.11.6/envs/jupyter-pdf-rag/lib/python3.11/site-packages (from requests<3,>=2->langchain_community) (3.10)\n",
      "Requirement already satisfied: urllib3<3,>=1.21.1 in /Users/arturops/.pyenv/versions/3.11.6/envs/jupyter-pdf-rag/lib/python3.11/site-packages (from requests<3,>=2->langchain_community) (2.4.0)\n",
      "Requirement already satisfied: certifi>=2017.4.17 in /Users/arturops/.pyenv/versions/3.11.6/envs/jupyter-pdf-rag/lib/python3.11/site-packages (from requests<3,>=2->langchain_community) (2025.4.26)\n",
      "Requirement already satisfied: anyio in /Users/arturops/.pyenv/versions/3.11.6/envs/jupyter-pdf-rag/lib/python3.11/site-packages (from httpx<1,>=0.23.0->langsmith<0.4,>=0.1.125->langchain_community) (4.9.0)\n",
      "Requirement already satisfied: httpcore==1.* in /Users/arturops/.pyenv/versions/3.11.6/envs/jupyter-pdf-rag/lib/python3.11/site-packages (from httpx<1,>=0.23.0->langsmith<0.4,>=0.1.125->langchain_community) (1.0.9)\n",
      "Requirement already satisfied: h11>=0.16 in /Users/arturops/.pyenv/versions/3.11.6/envs/jupyter-pdf-rag/lib/python3.11/site-packages (from httpcore==1.*->httpx<1,>=0.23.0->langsmith<0.4,>=0.1.125->langchain_community) (0.16.0)\n",
      "Requirement already satisfied: jsonpointer>=1.9 in /Users/arturops/.pyenv/versions/3.11.6/envs/jupyter-pdf-rag/lib/python3.11/site-packages (from jsonpatch<2.0,>=1.33->langchain-core<1.0.0,>=0.3.59->langchain_community) (3.0.0)\n",
      "Requirement already satisfied: annotated-types>=0.6.0 in /Users/arturops/.pyenv/versions/3.11.6/envs/jupyter-pdf-rag/lib/python3.11/site-packages (from pydantic<3.0.0,>=2.7.4->langchain<1.0.0,>=0.3.25->langchain_community) (0.7.0)\n",
      "Requirement already satisfied: pydantic-core==2.33.2 in /Users/arturops/.pyenv/versions/3.11.6/envs/jupyter-pdf-rag/lib/python3.11/site-packages (from pydantic<3.0.0,>=2.7.4->langchain<1.0.0,>=0.3.25->langchain_community) (2.33.2)\n",
      "Requirement already satisfied: mypy-extensions>=0.3.0 in /Users/arturops/.pyenv/versions/3.11.6/envs/jupyter-pdf-rag/lib/python3.11/site-packages (from typing-inspect<1,>=0.4.0->dataclasses-json<0.7,>=0.5.7->langchain_community) (1.1.0)\n",
      "Requirement already satisfied: sniffio>=1.1 in /Users/arturops/.pyenv/versions/3.11.6/envs/jupyter-pdf-rag/lib/python3.11/site-packages (from anyio->httpx<1,>=0.23.0->langsmith<0.4,>=0.1.125->langchain_community) (1.3.1)\n",
      "\n",
      "\u001b[1m[\u001b[0m\u001b[34;49mnotice\u001b[0m\u001b[1;39;49m]\u001b[0m\u001b[39;49m A new release of pip is available: \u001b[0m\u001b[31;49m23.2.1\u001b[0m\u001b[39;49m -> \u001b[0m\u001b[32;49m25.1.1\u001b[0m\n",
      "\u001b[1m[\u001b[0m\u001b[34;49mnotice\u001b[0m\u001b[1;39;49m]\u001b[0m\u001b[39;49m To update, run: \u001b[0m\u001b[32;49mpython3.11 -m pip install --upgrade pip\u001b[0m\n",
      "Requirement already satisfied: langchain-text-splitters in /Users/arturops/.pyenv/versions/3.11.6/envs/jupyter-pdf-rag/lib/python3.11/site-packages (0.3.8)\n",
      "Requirement already satisfied: langchain-ollama in /Users/arturops/.pyenv/versions/3.11.6/envs/jupyter-pdf-rag/lib/python3.11/site-packages (0.3.3)\n",
      "Requirement already satisfied: protobuf in /Users/arturops/.pyenv/versions/3.11.6/envs/jupyter-pdf-rag/lib/python3.11/site-packages (5.29.4)\n",
      "Requirement already satisfied: langchain-core<1.0.0,>=0.3.51 in /Users/arturops/.pyenv/versions/3.11.6/envs/jupyter-pdf-rag/lib/python3.11/site-packages (from langchain-text-splitters) (0.3.60)\n",
      "Requirement already satisfied: ollama<1.0.0,>=0.4.8 in /Users/arturops/.pyenv/versions/3.11.6/envs/jupyter-pdf-rag/lib/python3.11/site-packages (from langchain-ollama) (0.4.8)\n",
      "Requirement already satisfied: langsmith<0.4,>=0.1.126 in /Users/arturops/.pyenv/versions/3.11.6/envs/jupyter-pdf-rag/lib/python3.11/site-packages (from langchain-core<1.0.0,>=0.3.51->langchain-text-splitters) (0.3.42)\n",
      "Requirement already satisfied: tenacity!=8.4.0,<10.0.0,>=8.1.0 in /Users/arturops/.pyenv/versions/3.11.6/envs/jupyter-pdf-rag/lib/python3.11/site-packages (from langchain-core<1.0.0,>=0.3.51->langchain-text-splitters) (9.1.2)\n",
      "Requirement already satisfied: jsonpatch<2.0,>=1.33 in /Users/arturops/.pyenv/versions/3.11.6/envs/jupyter-pdf-rag/lib/python3.11/site-packages (from langchain-core<1.0.0,>=0.3.51->langchain-text-splitters) (1.33)\n",
      "Requirement already satisfied: PyYAML>=5.3 in /Users/arturops/.pyenv/versions/3.11.6/envs/jupyter-pdf-rag/lib/python3.11/site-packages (from langchain-core<1.0.0,>=0.3.51->langchain-text-splitters) (6.0.2)\n",
      "Requirement already satisfied: packaging<25,>=23.2 in /Users/arturops/.pyenv/versions/3.11.6/envs/jupyter-pdf-rag/lib/python3.11/site-packages (from langchain-core<1.0.0,>=0.3.51->langchain-text-splitters) (24.2)\n",
      "Requirement already satisfied: typing-extensions>=4.7 in /Users/arturops/.pyenv/versions/3.11.6/envs/jupyter-pdf-rag/lib/python3.11/site-packages (from langchain-core<1.0.0,>=0.3.51->langchain-text-splitters) (4.13.2)\n",
      "Requirement already satisfied: pydantic>=2.7.4 in /Users/arturops/.pyenv/versions/3.11.6/envs/jupyter-pdf-rag/lib/python3.11/site-packages (from langchain-core<1.0.0,>=0.3.51->langchain-text-splitters) (2.11.4)\n",
      "Requirement already satisfied: httpx<0.29,>=0.27 in /Users/arturops/.pyenv/versions/3.11.6/envs/jupyter-pdf-rag/lib/python3.11/site-packages (from ollama<1.0.0,>=0.4.8->langchain-ollama) (0.28.1)\n",
      "Requirement already satisfied: anyio in /Users/arturops/.pyenv/versions/3.11.6/envs/jupyter-pdf-rag/lib/python3.11/site-packages (from httpx<0.29,>=0.27->ollama<1.0.0,>=0.4.8->langchain-ollama) (4.9.0)\n",
      "Requirement already satisfied: certifi in /Users/arturops/.pyenv/versions/3.11.6/envs/jupyter-pdf-rag/lib/python3.11/site-packages (from httpx<0.29,>=0.27->ollama<1.0.0,>=0.4.8->langchain-ollama) (2025.4.26)\n",
      "Requirement already satisfied: httpcore==1.* in /Users/arturops/.pyenv/versions/3.11.6/envs/jupyter-pdf-rag/lib/python3.11/site-packages (from httpx<0.29,>=0.27->ollama<1.0.0,>=0.4.8->langchain-ollama) (1.0.9)\n",
      "Requirement already satisfied: idna in /Users/arturops/.pyenv/versions/3.11.6/envs/jupyter-pdf-rag/lib/python3.11/site-packages (from httpx<0.29,>=0.27->ollama<1.0.0,>=0.4.8->langchain-ollama) (3.10)\n",
      "Requirement already satisfied: h11>=0.16 in /Users/arturops/.pyenv/versions/3.11.6/envs/jupyter-pdf-rag/lib/python3.11/site-packages (from httpcore==1.*->httpx<0.29,>=0.27->ollama<1.0.0,>=0.4.8->langchain-ollama) (0.16.0)\n",
      "Requirement already satisfied: jsonpointer>=1.9 in /Users/arturops/.pyenv/versions/3.11.6/envs/jupyter-pdf-rag/lib/python3.11/site-packages (from jsonpatch<2.0,>=1.33->langchain-core<1.0.0,>=0.3.51->langchain-text-splitters) (3.0.0)\n",
      "Requirement already satisfied: orjson<4.0.0,>=3.9.14 in /Users/arturops/.pyenv/versions/3.11.6/envs/jupyter-pdf-rag/lib/python3.11/site-packages (from langsmith<0.4,>=0.1.126->langchain-core<1.0.0,>=0.3.51->langchain-text-splitters) (3.10.18)\n",
      "Requirement already satisfied: requests<3,>=2 in /Users/arturops/.pyenv/versions/3.11.6/envs/jupyter-pdf-rag/lib/python3.11/site-packages (from langsmith<0.4,>=0.1.126->langchain-core<1.0.0,>=0.3.51->langchain-text-splitters) (2.32.3)\n",
      "Requirement already satisfied: requests-toolbelt<2.0.0,>=1.0.0 in /Users/arturops/.pyenv/versions/3.11.6/envs/jupyter-pdf-rag/lib/python3.11/site-packages (from langsmith<0.4,>=0.1.126->langchain-core<1.0.0,>=0.3.51->langchain-text-splitters) (1.0.0)\n",
      "Requirement already satisfied: zstandard<0.24.0,>=0.23.0 in /Users/arturops/.pyenv/versions/3.11.6/envs/jupyter-pdf-rag/lib/python3.11/site-packages (from langsmith<0.4,>=0.1.126->langchain-core<1.0.0,>=0.3.51->langchain-text-splitters) (0.23.0)\n",
      "Requirement already satisfied: annotated-types>=0.6.0 in /Users/arturops/.pyenv/versions/3.11.6/envs/jupyter-pdf-rag/lib/python3.11/site-packages (from pydantic>=2.7.4->langchain-core<1.0.0,>=0.3.51->langchain-text-splitters) (0.7.0)\n",
      "Requirement already satisfied: pydantic-core==2.33.2 in /Users/arturops/.pyenv/versions/3.11.6/envs/jupyter-pdf-rag/lib/python3.11/site-packages (from pydantic>=2.7.4->langchain-core<1.0.0,>=0.3.51->langchain-text-splitters) (2.33.2)\n",
      "Requirement already satisfied: typing-inspection>=0.4.0 in /Users/arturops/.pyenv/versions/3.11.6/envs/jupyter-pdf-rag/lib/python3.11/site-packages (from pydantic>=2.7.4->langchain-core<1.0.0,>=0.3.51->langchain-text-splitters) (0.4.0)\n",
      "Requirement already satisfied: charset-normalizer<4,>=2 in /Users/arturops/.pyenv/versions/3.11.6/envs/jupyter-pdf-rag/lib/python3.11/site-packages (from requests<3,>=2->langsmith<0.4,>=0.1.126->langchain-core<1.0.0,>=0.3.51->langchain-text-splitters) (3.4.2)\n",
      "Requirement already satisfied: urllib3<3,>=1.21.1 in /Users/arturops/.pyenv/versions/3.11.6/envs/jupyter-pdf-rag/lib/python3.11/site-packages (from requests<3,>=2->langsmith<0.4,>=0.1.126->langchain-core<1.0.0,>=0.3.51->langchain-text-splitters) (2.4.0)\n",
      "Requirement already satisfied: sniffio>=1.1 in /Users/arturops/.pyenv/versions/3.11.6/envs/jupyter-pdf-rag/lib/python3.11/site-packages (from anyio->httpx<0.29,>=0.27->ollama<1.0.0,>=0.4.8->langchain-ollama) (1.3.1)\n",
      "\n",
      "\u001b[1m[\u001b[0m\u001b[34;49mnotice\u001b[0m\u001b[1;39;49m]\u001b[0m\u001b[39;49m A new release of pip is available: \u001b[0m\u001b[31;49m23.2.1\u001b[0m\u001b[39;49m -> \u001b[0m\u001b[32;49m25.1.1\u001b[0m\n",
      "\u001b[1m[\u001b[0m\u001b[34;49mnotice\u001b[0m\u001b[1;39;49m]\u001b[0m\u001b[39;49m To update, run: \u001b[0m\u001b[32;49mpython3.11 -m pip install --upgrade pip\u001b[0m\n"
     ]
    }
   ],
   "source": [
    "!pip install tqdm \"unstructured[all-docs]>=0.16.12\" langchain chromadb \n",
    "!pip install langchain_community\n",
    "!pip install langchain-text-splitters langchain-ollama protobuf"
   ]
  },
  {
   "cell_type": "markdown",
   "id": "21c02de6-afa7-40b9-97f1-588e89459cea",
   "metadata": {},
   "source": [
    "## Ingesting PDFs\n",
    "It is required to create on the same directory level a folder `pdfs` and in there store your desired `pdf` file to use. \n",
    "> Make sure to set the `pdf_name` variable below to the name of your pdf file"
   ]
  },
  {
   "cell_type": "code",
   "execution_count": 3,
   "id": "c9ec968a-5cc4-428c-82b2-2262b67001bd",
   "metadata": {},
   "outputs": [],
   "source": [
    "import os\n",
    "from langchain_community.document_loaders import UnstructuredPDFLoader\n",
    "from langchain_community.document_loaders import OnlinePDFLoader"
   ]
  },
  {
   "cell_type": "code",
   "execution_count": 4,
   "id": "a9e07897-e1c0-4219-a8ba-e654d9d2fff2",
   "metadata": {},
   "outputs": [
    {
     "name": "stdout",
     "output_type": "stream",
     "text": [
      "pdfs/ReAct-AI-agents.pdf\n",
      "Uploaded 'pdfs/ReAct-AI-agents.pdf'.\n"
     ]
    }
   ],
   "source": [
    "pdf_name = \"ReAct-AI-agents.pdf\"\n",
    "pdf_path = os.path.join(\"pdfs\", pdf_name)\n",
    "print(pdf_path)\n",
    "\n",
    "if pdf_path:\n",
    "    loader = UnstructuredPDFLoader(file_path=pdf_path)\n",
    "    data = loader.load()\n",
    "    print(f\"Uploaded '{pdf_path}'.\")\n",
    "else:\n",
    "    print(\"Upload a pdf in 'pdfs' folder. Create the folder if needed.\")"
   ]
  },
  {
   "cell_type": "code",
   "execution_count": 5,
   "id": "be438336-7a09-4f20-8a0d-65a3b9a2f822",
   "metadata": {},
   "outputs": [],
   "source": [
    "# Preview (output is too long, so only uncomment for curiosity)\n",
    "# data[0].page_content"
   ]
  },
  {
   "cell_type": "markdown",
   "id": "0eee12d3-fcb0-46ae-ba20-50983d8e1c23",
   "metadata": {},
   "source": [
    "## Embeddings\n",
    "\n",
    "This section requires that you have [Ollama](https://ollama.com/) installed in your local computer and that you have pulled an embedding model of your choice. For this notebook, we chose [nomic-embed-text](https://ollama.com/library/nomic-embed-text) as it has large context length and outperforms OpenAI's `text-embedding-ada-002` and `text-embedding-3-small`."
   ]
  },
  {
   "cell_type": "code",
   "execution_count": 6,
   "id": "e3bd21d9-4374-4540-91d0-44dda4a8481e",
   "metadata": {},
   "outputs": [
    {
     "name": "stdout",
     "output_type": "stream",
     "text": [
      "Error: listen tcp 127.0.0.1:11434: bind: address already in use\n",
      "\u001b[?2026h\u001b[?25l\u001b[1Gpulling manifest ⠋ \u001b[K\u001b[?25h\u001b[?2026l\u001b[?2026h\u001b[?25l\u001b[1Gpulling manifest ⠙ \u001b[K\u001b[?25h\u001b[?2026l\u001b[?2026h\u001b[?25l\u001b[1Gpulling manifest ⠹ \u001b[K\u001b[?25h\u001b[?2026l\u001b[?2026h\u001b[?25l\u001b[1Gpulling manifest \u001b[K\n",
      "pulling 970aa74c0a90: 100% ▕██████████████████▏ 274 MB                         \u001b[K\n",
      "pulling c71d239df917: 100% ▕██████████████████▏  11 KB                         \u001b[K\n",
      "pulling ce4a164fc046: 100% ▕██████████████████▏   17 B                         \u001b[K\n",
      "pulling 31df23ea7daa: 100% ▕██████████████████▏  420 B                         \u001b[K\n",
      "verifying sha256 digest \u001b[K\n",
      "writing manifest \u001b[K\n",
      "success \u001b[K\u001b[?25h\u001b[?2026l\n"
     ]
    }
   ],
   "source": [
    "# pull the model in case you do not have it yet\n",
    "!ollama serve\n",
    "!ollama pull nomic-embed-text"
   ]
  },
  {
   "cell_type": "code",
   "execution_count": 7,
   "id": "bc990e99-a138-4633-bb1d-bca6567d3342",
   "metadata": {},
   "outputs": [
    {
     "name": "stdout",
     "output_type": "stream",
     "text": [
      "NAME                       ID              SIZE      MODIFIED               \n",
      "nomic-embed-text:latest    0a109f422b47    274 MB    Less than a second ago    \n",
      "mxbai-embed-large:335m     468836162de7    669 MB    4 hours ago               \n",
      "nomic-embed-text:v1.5      0a109f422b47    274 MB    4 hours ago               \n",
      "llama3.2:3b                a80c4f17acd5    2.0 GB    4 hours ago               \n"
     ]
    }
   ],
   "source": [
    "!ollama list"
   ]
  },
  {
   "cell_type": "code",
   "execution_count": 8,
   "id": "cc4b2d51-2cf7-4355-a841-6c3b3ab7854e",
   "metadata": {},
   "outputs": [],
   "source": [
    "EMBEDDING_MODEL = \"nomic-embed-text\""
   ]
  },
  {
   "cell_type": "code",
   "execution_count": 9,
   "id": "bb52843e-a2a0-4a40-9ea3-9f00467714f1",
   "metadata": {},
   "outputs": [],
   "source": [
    "from langchain_ollama import OllamaEmbeddings\n",
    "from langchain_text_splitters import RecursiveCharacterTextSplitter\n",
    "from langchain_community.vectorstores import Chroma"
   ]
  },
  {
   "cell_type": "code",
   "execution_count": 10,
   "id": "a700af18-ca98-4ae8-893d-dbb92e52a62c",
   "metadata": {},
   "outputs": [],
   "source": [
    "# Split and chunk pdf\n",
    "text_splitter = RecursiveCharacterTextSplitter(chunk_size=8000, chunk_overlap=150)\n",
    "chunks = text_splitter.split_documents(data)"
   ]
  },
  {
   "cell_type": "code",
   "execution_count": 11,
   "id": "d24a3e0a-8a56-428d-b10a-0a979b0a3cb6",
   "metadata": {},
   "outputs": [],
   "source": [
    "# visualize two chunks (long output cell, uncomment to visualize if curious)\n",
    "# chunks[:2]"
   ]
  },
  {
   "cell_type": "code",
   "execution_count": 12,
   "id": "2de6ce79-4ccb-42f3-8720-5afaed9510f6",
   "metadata": {},
   "outputs": [],
   "source": [
    "# Add chunks to vector database (chunks get embeded)\n",
    "vdb = Chroma.from_documents(\n",
    "    documents=chunks,\n",
    "    persist_directory=None, # to Chroma an epehemral client aka in memory\n",
    "    embedding=OllamaEmbeddings(model=EMBEDDING_MODEL),\n",
    "    collection_name=\"local_rag\", # collection created in chromadb\n",
    ")"
   ]
  },
  {
   "cell_type": "markdown",
   "id": "ae8ae47d-a29e-43be-adf4-78b98b9cb8bd",
   "metadata": {},
   "source": [
    "## Retrieval "
   ]
  },
  {
   "cell_type": "code",
   "execution_count": 13,
   "id": "a7bbb901-5118-4b83-ba48-481ee28201d3",
   "metadata": {},
   "outputs": [],
   "source": [
    "from langchain.prompts import ChatPromptTemplate, PromptTemplate\n",
    "from langchain_core.output_parsers import StrOutputParser\n",
    "from langchain_ollama import ChatOllama\n",
    "from langchain_core.runnables import RunnablePassthrough\n",
    "from langchain.retrievers.multi_query import MultiQueryRetriever"
   ]
  },
  {
   "cell_type": "code",
   "execution_count": 14,
   "id": "8651733f-d42d-4968-8ea6-5506341448d0",
   "metadata": {},
   "outputs": [],
   "source": [
    "# LLM from Ollama\n",
    "LOCAL_MODEL = \"llama3.2:3b\""
   ]
  },
  {
   "cell_type": "code",
   "execution_count": 15,
   "id": "f57b644a-d71c-49e6-8d55-f369022a0a08",
   "metadata": {},
   "outputs": [],
   "source": [
    "llm = ChatOllama(model=LOCAL_MODEL)"
   ]
  },
  {
   "cell_type": "code",
   "execution_count": 16,
   "id": "8cc68087-35f3-41f0-9328-a7f5f80b881b",
   "metadata": {},
   "outputs": [],
   "source": [
    "# Query prompt template\n",
    "QUERY_PROMPT = PromptTemplate(\n",
    "    input_variables=[\"question\"],\n",
    "    template=\"\"\"You are an AI language model assistant. Your task is to generate 2\n",
    "    different versions of the given user question to retrieve relevant documents from\n",
    "    a vector database. By generating multiple perspectives on the user question, your\n",
    "    goal is to help the user overcome some of the limitations of the distance-based\n",
    "    similarity search. Provide these alternative questions separated by newlines.\n",
    "    Original question: {question}\"\"\",\n",
    ")"
   ]
  },
  {
   "cell_type": "code",
   "execution_count": 17,
   "id": "356427c3-0e08-42d4-b0a9-1e07f85accb7",
   "metadata": {},
   "outputs": [],
   "source": [
    "# Retriever\n",
    "retriever = MultiQueryRetriever.from_llm(\n",
    "    vdb.as_retriever(),\n",
    "    llm,\n",
    "    prompt=QUERY_PROMPT,\n",
    ")"
   ]
  },
  {
   "cell_type": "code",
   "execution_count": 18,
   "id": "f217a091-50db-4abf-9c1c-ecbc74602f45",
   "metadata": {},
   "outputs": [],
   "source": [
    "# RAG prompt\n",
    "template = \"\"\"\n",
    "Answer the question based ONLY on the following context:\n",
    "{context}\n",
    "Question: \n",
    "{question}\n",
    "\"\"\"\n",
    "\n",
    "rag_prompt = ChatPromptTemplate.from_template(template)"
   ]
  },
  {
   "cell_type": "code",
   "execution_count": 19,
   "id": "187ccda1-26ca-466a-bfff-a34dc1445540",
   "metadata": {},
   "outputs": [],
   "source": [
    "# create a chain to run all pipeline of steps\n",
    "chain = (\n",
    "    {\"context\": retriever, \"question\": RunnablePassthrough()}\n",
    "    | rag_prompt\n",
    "    | llm\n",
    "    | StrOutputParser()\n",
    ")"
   ]
  },
  {
   "cell_type": "code",
   "execution_count": 20,
   "id": "38123c1a-d648-40a9-8aaa-b960be294eca",
   "metadata": {},
   "outputs": [
    {
     "name": "stdin",
     "output_type": "stream",
     "text": [
      " what is this about?\n"
     ]
    }
   ],
   "source": [
    "# call the whole pipeline of steps aka do RAG\n",
    "# uncomment this for getting an input to type your question\n",
    "response = chain.invoke(input(\"\"))"
   ]
  },
  {
   "cell_type": "code",
   "execution_count": 21,
   "id": "0c860ef3-b04f-41b9-bfc6-405d3143819b",
   "metadata": {},
   "outputs": [
    {
     "data": {
      "text/plain": [
       "'This appears to be a passage discussing two AI models, Act and ReAct, which are being compared in terms of their ability to complete tasks. The passage describes an experiment where both models are given the instruction \"get me a sixteen pack of apple cinnamon freeze dried banana chips, and price lower than 50.00 dollars\".\\n\\nThe comparison highlights that Act is unable to find a product that meets all the requirements, while ReAct uses reasoning to identify multiple products that satisfy some but not all of the target attributes. The passage also mentions a \"D.3 WEBSHOP TRAJECTORIES\" section that provides more details on the experiment and the results, including example trajectories for Webshop predicted by Act and ReAct.\\n\\nOverall, this appears to be a discussion about the strengths and weaknesses of the two AI models in completing tasks that require reasoning and problem-solving abilities.'"
      ]
     },
     "execution_count": 21,
     "metadata": {},
     "output_type": "execute_result"
    }
   ],
   "source": [
    "response"
   ]
  },
  {
   "cell_type": "code",
   "execution_count": 22,
   "id": "bcc51fb6-106c-4a87-a10f-f52ee2b5a913",
   "metadata": {},
   "outputs": [
    {
     "data": {
      "text/plain": [
       "'Based on the provided document, here are five main takeaways:\\n\\n1. **ReAct achieves comparable performance to state-of-the-art methods**: The document reports that ReAct, a simple method for synergizing reasoning and acting in large language models, performs on par with more complex methods like IL (Instance Learning) and IL+RL (Instance Learning + Reinforcement Learning) on certain tasks.\\n\\n2. **ReAct outperforms inner monologue methods**: The authors compare ReAct to Inner Monologue, a method that uses an \"inner monologue\" to guide the agent\\'s actions. They find that ReAct substantially outperforms Inner Monologue-style prompting on overall success rate and on specific tasks.\\n\\n3. **ReAct incorporates flexible and sparse reasoning**: Unlike some other methods, ReAct allows for diverse reasoning types to be induced for different tasks, making it more effective in tackling complex problems.\\n\\n4. **LLMs can learn decision-making policies effectively**: The document highlights the potential of large language models (LLMs) as policy models for decision-making, particularly in interactive environments. ReAct demonstrates a simpler and cheaper approach to learning decision-making policies compared to other methods that rely on expensive human feedback or extensive dataset collections.\\n\\n5. **Scaling up ReAct is an area for future research**: While initial results are promising, the authors acknowledge that scaling up ReAct with multi-task training and combining it with complementary paradigms like reinforcement learning could lead to even stronger agents that unlock LLMs\\' potential for more applications.'"
      ]
     },
     "execution_count": 22,
     "metadata": {},
     "output_type": "execute_result"
    }
   ],
   "source": [
    "resp2 = chain.invoke(\"What are the main 5 take aways from the document?\")\n",
    "resp2"
   ]
  },
  {
   "cell_type": "code",
   "execution_count": 23,
   "id": "752abddb-2539-43d0-91e1-741ba086c292",
   "metadata": {},
   "outputs": [],
   "source": [
    "# Delete all collections in the vector db \n",
    "# (aka clean memory because chroma was ephemeral)\n",
    "vdb.delete_collection()"
   ]
  },
  {
   "cell_type": "code",
   "execution_count": 24,
   "id": "ac13ccbb-f575-4588-b8d2-3651f1e5df86",
   "metadata": {},
   "outputs": [],
   "source": [
    "!pip freeze > requirements-rag-pdf.txt"
   ]
  }
 ],
 "metadata": {
  "kernelspec": {
   "display_name": "Python 3 (ipykernel)",
   "language": "python",
   "name": "python3"
  },
  "language_info": {
   "codemirror_mode": {
    "name": "ipython",
    "version": 3
   },
   "file_extension": ".py",
   "mimetype": "text/x-python",
   "name": "python",
   "nbconvert_exporter": "python",
   "pygments_lexer": "ipython3",
   "version": "3.11.6"
  }
 },
 "nbformat": 4,
 "nbformat_minor": 5
}
